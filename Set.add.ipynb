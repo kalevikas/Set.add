{
 "cells": [
  {
   "cell_type": "markdown",
   "id": "d8a79c38",
   "metadata": {},
   "source": [
    "# Set.add()"
   ]
  },
  {
   "cell_type": "markdown",
   "id": "7fe93ea8",
   "metadata": {},
   "source": [
    "- If we want to add a single element to an existing set, we can use the .add() operation.\n",
    "- It adds the element to the set and returns 'None'."
   ]
  },
  {
   "cell_type": "markdown",
   "id": "b3fbb548",
   "metadata": {},
   "source": [
    "### Example"
   ]
  },
  {
   "cell_type": "code",
   "execution_count": 4,
   "id": "23f42987",
   "metadata": {},
   "outputs": [
    {
     "name": "stdout",
     "output_type": "stream",
     "text": [
      "8\n",
      "{'a', 'k', 'H', 'n', 'r', 'R', 'c', 'e'}\n"
     ]
    },
    {
     "data": {
      "text/plain": [
       "8"
      ]
     },
     "execution_count": 4,
     "metadata": {},
     "output_type": "execute_result"
    }
   ],
   "source": [
    "s = set('HackerRank')\n",
    "print(len(s))\n",
    "s.add('H')\n",
    "print(s)\n",
    "len(s)"
   ]
  },
  {
   "cell_type": "code",
   "execution_count": 6,
   "id": "f92a61a4",
   "metadata": {},
   "outputs": [
    {
     "name": "stdout",
     "output_type": "stream",
     "text": [
      "None\n",
      "{'a', 'k', 'H', 'n', 'r', 'HackerRank', 'R', 'c', 'e'}\n"
     ]
    }
   ],
   "source": [
    "set(['a', 'c', 'e', 'H', 'k', 'n', 'r', 'R'])\n",
    "print(s.add('HackerRank'))\n",
    "print(s)"
   ]
  },
  {
   "cell_type": "markdown",
   "id": "ba7004a8",
   "metadata": {},
   "source": [
    "# Task"
   ]
  },
  {
   "cell_type": "markdown",
   "id": "0ac3322b",
   "metadata": {},
   "source": [
    "- Apply your knowledge of the .add() operation to help your friend Rupal.\n",
    "\n",
    "- Rupal has a huge collection of country stamps. She decided to count the total number of distinct country stamps in her collection. She asked for your help. You pick the stamps one by one from a stack of N country stamps.\n",
    "\n",
    "- Find the total number of distinct country stamps."
   ]
  },
  {
   "cell_type": "markdown",
   "id": "b92b9759",
   "metadata": {},
   "source": [
    "## Input Format"
   ]
  },
  {
   "cell_type": "code",
   "execution_count": null,
   "id": "83820723",
   "metadata": {},
   "outputs": [],
   "source": [
    "The first line contains an integer N, the total number of country stamps.\n",
    "The next N lines contains the name of the country where the stamp is from."
   ]
  },
  {
   "cell_type": "markdown",
   "id": "2e45f6da",
   "metadata": {},
   "source": [
    "## Output Format\n",
    "\n",
    "- Output the total number of distinct country stamps on a single line."
   ]
  },
  {
   "cell_type": "code",
   "execution_count": null,
   "id": "536819c3",
   "metadata": {},
   "outputs": [],
   "source": [
    "Sample Input\n",
    "\n",
    "7\n",
    "UK\n",
    "China\n",
    "USA\n",
    "New Zealand\n",
    "UK\n",
    "France \n",
    "\n",
    "\n",
    "\n",
    "Sample Output\n",
    "\n",
    "5\n",
    "\n",
    "- UK and France repeat twice. Hence, the total number of distinct country stamps is 5 (five)."
   ]
  },
  {
   "cell_type": "markdown",
   "id": "9ec3ad50",
   "metadata": {},
   "source": [
    "# method 1"
   ]
  },
  {
   "cell_type": "code",
   "execution_count": 9,
   "id": "01ba772e",
   "metadata": {},
   "outputs": [
    {
     "name": "stdout",
     "output_type": "stream",
     "text": [
      "7\n",
      "UK\n",
      "China\n",
      "USA\n",
      "France\n",
      "New Zealand\n",
      "UK\n",
      "France\n",
      "5\n"
     ]
    }
   ],
   "source": [
    "n=int(input())\n",
    "count=0\n",
    "stamps=''\n",
    "for i in range(n):\n",
    "    countries=input()\n",
    "    if countries not in stamps:\n",
    "        stamps=stamps+countries\n",
    "        count+=1\n",
    "print(count)\n",
    "    # print()        \n",
    "    \n",
    "    "
   ]
  },
  {
   "cell_type": "markdown",
   "id": "86f77d0c",
   "metadata": {},
   "source": [
    "# method 2"
   ]
  },
  {
   "cell_type": "code",
   "execution_count": 10,
   "id": "b6da7d2d",
   "metadata": {},
   "outputs": [
    {
     "name": "stdout",
     "output_type": "stream",
     "text": [
      "7\n",
      "UK\n",
      "China\n",
      "USA\n",
      "France\n",
      "New Zealand\n",
      "UK\n",
      "France\n",
      "5\n"
     ]
    }
   ],
   "source": [
    "print(len(set([str(input()) for x in range(int(input()))])))"
   ]
  },
  {
   "cell_type": "markdown",
   "id": "2f372b8a",
   "metadata": {},
   "source": [
    "# method 3"
   ]
  },
  {
   "cell_type": "code",
   "execution_count": 11,
   "id": "670d2509",
   "metadata": {},
   "outputs": [
    {
     "name": "stdout",
     "output_type": "stream",
     "text": [
      "7\n",
      "Uk\n",
      "china\n",
      "usa\n",
      "france\n",
      "new zwaland\n",
      "Uk\n",
      "france\n",
      "5\n"
     ]
    }
   ],
   "source": [
    "s = set()\n",
    "for i in range(int(input())):\n",
    "    s.add(input())\n",
    "print(len(s))"
   ]
  },
  {
   "cell_type": "code",
   "execution_count": null,
   "id": "e18d8e80",
   "metadata": {},
   "outputs": [],
   "source": []
  }
 ],
 "metadata": {
  "kernelspec": {
   "display_name": "Python 3",
   "language": "python",
   "name": "python3"
  },
  "language_info": {
   "codemirror_mode": {
    "name": "ipython",
    "version": 3
   },
   "file_extension": ".py",
   "mimetype": "text/x-python",
   "name": "python",
   "nbconvert_exporter": "python",
   "pygments_lexer": "ipython3",
   "version": "3.8.8"
  }
 },
 "nbformat": 4,
 "nbformat_minor": 5
}
